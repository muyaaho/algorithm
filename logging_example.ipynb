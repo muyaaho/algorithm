{
 "cells": [
  {
   "cell_type": "code",
   "execution_count": 1,
   "metadata": {},
   "outputs": [
    {
     "ename": "TypeError",
     "evalue": "StreamHandler.__init__() got an unexpected keyword argument 'mode'",
     "output_type": "error",
     "traceback": [
      "\u001b[1;31m---------------------------------------------------------------------------\u001b[0m",
      "\u001b[1;31mTypeError\u001b[0m                                 Traceback (most recent call last)",
      "Cell \u001b[1;32mIn[1], line 4\u001b[0m\n\u001b[0;32m      1\u001b[0m \u001b[39mimport\u001b[39;00m \u001b[39mlogging\u001b[39;00m\n\u001b[0;32m      3\u001b[0m logger \u001b[39m=\u001b[39m logging\u001b[39m.\u001b[39mgetLogger(\u001b[39m\"\u001b[39m\u001b[39mmain\u001b[39m\u001b[39m\"\u001b[39m)\n\u001b[1;32m----> 4\u001b[0m stream_hander \u001b[39m=\u001b[39m logging\u001b[39m.\u001b[39;49mStreamHandler(\u001b[39m\"\u001b[39;49m\u001b[39mmy.log\u001b[39;49m\u001b[39m\"\u001b[39;49m, mode \u001b[39m=\u001b[39;49m \u001b[39m\"\u001b[39;49m\u001b[39mw\u001b[39;49m\u001b[39m\"\u001b[39;49m, encoding\u001b[39m=\u001b[39;49m\u001b[39m\"\u001b[39;49m\u001b[39mutf8\u001b[39;49m\u001b[39m\"\u001b[39;49m)  \u001b[39m#output 방법 선언\u001b[39;00m\n\u001b[0;32m      5\u001b[0m logger\u001b[39m.\u001b[39maddHandler(stream_hander)\n",
      "\u001b[1;31mTypeError\u001b[0m: StreamHandler.__init__() got an unexpected keyword argument 'mode'"
     ]
    }
   ],
   "source": [
    "import logging\n",
    "\n",
    "logger = logging.getLogger(\"main\")\n",
    "stream_hander = logging.StreamHandler(\"my.log\", mode = \"w\", encoding=\"utf8\")  #output 방법 선언\n",
    "logger.addHandler(stream_hander)\n",
    "\n",
    "# 여기서 선언하면 안되고 파이썬 파일에서 if__name__ == '__main__':\n",
    "# 해주면서 로거를 설정해야됨!\n"
   ]
  }
 ],
 "metadata": {
  "kernelspec": {
   "display_name": "Python 3",
   "language": "python",
   "name": "python3"
  },
  "language_info": {
   "codemirror_mode": {
    "name": "ipython",
    "version": 3
   },
   "file_extension": ".py",
   "mimetype": "text/x-python",
   "name": "python",
   "nbconvert_exporter": "python",
   "pygments_lexer": "ipython3",
   "version": "3.10.9"
  },
  "orig_nbformat": 4,
  "vscode": {
   "interpreter": {
    "hash": "9dc57dc1543d3c4fe42e7db12fd9ceab61e4ff487fbbec66f517c689c27a8439"
   }
  }
 },
 "nbformat": 4,
 "nbformat_minor": 2
}
